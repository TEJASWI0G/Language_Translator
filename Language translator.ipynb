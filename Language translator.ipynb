{
 "cells": [
  {
   "cell_type": "code",
   "execution_count": 1,
   "id": "9185d160",
   "metadata": {},
   "outputs": [],
   "source": [
    "from tkinter import *\n",
    "from tkinter import ttk\n",
    "from googletrans import Translator, LANGUAGES"
   ]
  },
  {
   "cell_type": "code",
   "execution_count": 6,
   "id": "c8b45799",
   "metadata": {},
   "outputs": [],
   "source": [
    "root = Tk()\n",
    "root.geometry('1100x320')\n",
    "root.resizable(0,0)\n",
    "root['bg'] = 'skyblue'\n",
    "\n",
    "root.title('language translator')\n",
    "\n",
    "label = Label(root, text=\"Enter text\", font='arial 13 bold', bg='white smoke')\n",
    "label.place(x=165, y=90)\n",
    "\n",
    "Label(root, text = \"Language Translator\",font = \"Arial 20 bold\").pack()\n",
    "\n",
    "Input_text = Entry(root, width=60)\n",
    "Input_text.place(x=30,y=130)\n",
    "Input_text.get()\n",
    "\n",
    "Label(root, text = \"Output\", font = 'arial 13 bold', bg = 'white smoke').place(x=680, y=90)\n",
    "Output_text = Text(root, font='arial 10',height = 5,wrap = WORD, padx = 5, pady = 5, width=60)\n",
    "Output_text.place(x=500, y=130)\n",
    "\n",
    "language = list(LANGUAGES.values())\n",
    "\n",
    "dest_lang = ttk.Combobox(root, values = language, width = 22)\n",
    "dest_lang.place(x = 130, y=160)\n",
    "dest_lang.set('choose language')\n",
    "\n",
    "def Translate():\n",
    "    translator = Translator()\n",
    "    translated = translator.translate(text = Input_text.get(), dest = dest_lang.get())\n",
    "    Output_text.delete(1.0, END)\n",
    "    Output_text.insert(END, translated.text)\n",
    "\n",
    "trans_btn = Button(root, text = 'Translate', font='arial 12 bold', pady = 5, command= Translate, bg = 'orange', activebackground = 'green')\n",
    "trans_btn.place(x= 445, y=250)\n",
    "root.mainloop()"
   ]
  },
  {
   "cell_type": "code",
   "execution_count": null,
   "id": "da964bad",
   "metadata": {},
   "outputs": [],
   "source": []
  }
 ],
 "metadata": {
  "kernelspec": {
   "display_name": "Python 3 (ipykernel)",
   "language": "python",
   "name": "python3"
  },
  "language_info": {
   "codemirror_mode": {
    "name": "ipython",
    "version": 3
   },
   "file_extension": ".py",
   "mimetype": "text/x-python",
   "name": "python",
   "nbconvert_exporter": "python",
   "pygments_lexer": "ipython3",
   "version": "3.10.9"
  }
 },
 "nbformat": 4,
 "nbformat_minor": 5
}
